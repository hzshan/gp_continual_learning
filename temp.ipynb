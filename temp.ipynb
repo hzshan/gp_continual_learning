{
 "cells": [
  {
   "cell_type": "code",
   "execution_count": 36,
   "metadata": {},
   "outputs": [
    {
     "name": "stdout",
     "output_type": "stream",
     "text": [
      "The autoreload extension is already loaded. To reload it, use:\n",
      "  %reload_ext autoreload\n",
      "06/24/2024 13:42:53 | Name of this run: BATCH_NAME_0\n",
      "06/24/2024 13:42:53 | Namespace(f=None, cluster=0, BATCH_NAME='BATCH_NAME', TRIAL_IND=0, P=10, P_test=200, n_tasks=2, T=0.0, sigma=0.2, permutation=1.0, resample=0, depth=1, seed=0, lambda_val=100000.0, use_large_lambda_limit=1, task_type='split', naive_gp=0, dataset='mnist', N0context=0, context_strength=1.0, save_outputs=0, whiten=0, only_first_task=False)\n",
      "torch.Size([4, 784])\n",
      "torch.Size([1, 784])\n",
      "torch.Size([4, 784])\n",
      "torch.Size([1, 784])\n",
      "torch.Size([80, 784])\n",
      "torch.Size([20, 784])\n",
      "torch.Size([80, 784])\n",
      "torch.Size([20, 784])\n"
     ]
    }
   ],
   "source": [
    "\"\"\"\n",
    "GP-limit continual learning theory for two-way classification problems.\n",
    "1. EVERY RANDOM SEED CORRESPONDS TO A NEW RANDOM DATA SAMPLE!!!\n",
    "\n",
    "\"\"\"\n",
    "\n",
    "%load_ext autoreload\n",
    "%autoreload 2\n",
    "\n",
    "# only save loss/accuracy of the first task across time\n",
    "# this is to reduce the size of the output file\n",
    "ONLY_FIRST_TASK = False\n",
    "\n",
    "\n",
    "import numpy as np\n",
    "import theory, cluster_utils, data, torch, sys\n",
    "\n",
    "ON_CLUSTER, data_path, output_home_path = cluster_utils.initialize()\n",
    "\n",
    "parser = cluster_utils.Args()\n",
    "parser.add('P', 10)  # size of each training set\n",
    "parser.add('P_test', 200)  # size of each testing set\n",
    "parser.add('n_tasks', 2, help='number of tasks in the sequence')\n",
    "parser.add('T', 0.0, help='temperature')\n",
    "parser.add('sigma', 0.2, help='weight variance')\n",
    "parser.add('permutation', 1.0,\n",
    "           help='permutation strength; 1.0=full permulation')\n",
    "parser.add('resample', 0, help='boolean variable')\n",
    "parser.add('depth', 1,\n",
    "           help='num of hidden layers.'\n",
    "           'setting depth=0 would use the input kernel')\n",
    "parser.add('seed', 0, help='random seed')\n",
    "parser.add('lambda_val', 1e5, help='lambda')\n",
    "parser.add('use_large_lambda_limit', 1,\n",
    "            help='whether to assume infinite lambda.'\n",
    "           'this makes calculations substantially faster.')\n",
    "parser.add('task_type', 'split', help='permuted/split')\n",
    "parser.add('naive_gp', 0, help='1/0')\n",
    "parser.add('dataset', 'mnist', help='mnist/cifar/fashion/cifar100')\n",
    "parser.add('N0context', 0, help='embedding dimension')\n",
    "parser.add('context_strength', 1.0,\n",
    "            help='magnifying factor for context embedding')\n",
    "parser.add('save_outputs', 0, help='1/0'\n",
    "           '; decides whether or not to save predictions on datasets;'\n",
    "           ' takes up a lot of disk space')\n",
    "parser.add('whiten', 0, help='1/0. Whether to whiten data first.')\n",
    "args = parser.parse_args()\n",
    "\n",
    "# log whether only saving first task performance\n",
    "args.only_first_task = ONLY_FIRST_TASK\n",
    "\n",
    "run_name = f'{args.BATCH_NAME}_{args.TRIAL_IND}'\n",
    "\n",
    "logger = cluster_utils.Logger(\n",
    "    output_path=f'{output_home_path}{args.BATCH_NAME}/',\n",
    "    run_name=run_name,\n",
    "    only_print=not ON_CLUSTER)\n",
    "\n",
    "logger.log(str(args))\n",
    "results = {'args': args}\n",
    "\n",
    "# Use the same seed for sampling the dataset etc.\n",
    "torch.manual_seed(args.seed)\n",
    "args.data_seed = args.seed\n",
    "\n",
    "\n",
    "seq_of_train_x, seq_of_test_x, seq_of_train_y, seq_of_test_y = \\\n",
    "    data.prepare_split_sequence(\n",
    "        args.P,\n",
    "        args.P_test,\n",
    "        dataset_name=args.dataset,\n",
    "        data_path=data_path,\n",
    "        precision=64,\n",
    "        n_tasks=args.n_tasks,\n",
    "        split_ratio=0.2,\n",
    "        whitening=args.whiten,)"
   ]
  },
  {
   "cell_type": "code",
   "execution_count": 40,
   "metadata": {},
   "outputs": [
    {
     "data": {
      "image/png": "[encoded data removed]",
      "text/plain": [
       "<Figure size 640x480 with 10 Axes>"
      ]
     },
     "metadata": {},
     "output_type": "display_data"
    },
    {
     "data": {
      "image/png": "[encoded data removed]",
      "text/plain": [
       "<Figure size 640x480 with 10 Axes>"
      ]
     },
     "metadata": {},
     "output_type": "display_data"
    }
   ],
   "source": [
    "import matplotlib.pyplot as plt\n",
    "\n",
    "\n",
    "_, axes = plt.subplots(ncols=10, nrows=1)\n",
    "axes = axes.ravel()\n",
    "for i in range(args.P):\n",
    "    plt.sca(axes[i])\n",
    "    plt.imshow(seq_of_train_x[0][i].reshape(28, 28))\n",
    "\n",
    "_, axes = plt.subplots(ncols=10, nrows=1)\n",
    "axes = axes.ravel()\n",
    "for i in range(args.P):\n",
    "    plt.sca(axes[i])\n",
    "    plt.imshow(seq_of_train_x[1][i].reshape(28, 28))"
   ]
  },
  {
   "cell_type": "code",
   "execution_count": 8,
   "metadata": {},
   "outputs": [],
   "source": [
    "import matplotlib.pyplot as plt\n",
    "split_ratio = 0.8\n",
    "\n",
    "\n",
    "assert 0 <= split_ratio <= 1\n",
    "\n",
    "P_digit_share = int(args.P * (1 - split_ratio) / (args.n_tasks) / 2)\n",
    "p_per_class = int(args.P / 2)\n",
    "\n",
    "# reshape into T x n_digits_per_task(2) x Pd x N0\n",
    "reshaped_seq_train_x = seq_of_train_x.reshape(args.n_tasks, 2, int(args.P/2), -1)\n",
    "returned_seq_train_x = torch.zeros_like(reshaped_seq_train_x)\n",
    "\n",
    "# all shared x for class 1\n",
    "shared_class1_tr_x = torch.vstack([\n",
    "    reshaped_seq_train_x[\n",
    "        i, 0, :P_digit_share] for i in range(args.n_tasks)])\n",
    "\n",
    "shared_class2_tr_x = torch.vstack([\n",
    "    reshaped_seq_train_x[\n",
    "        i, 1, :P_digit_share] for i in range(args.n_tasks)])\n",
    "\n",
    "p_shared_per_class = shared_class1_tr_x.shape[0]\n",
    "\n",
    "P_digit_unshared = p_per_class - p_shared_per_class\n",
    "\n",
    "for i in range(args.n_tasks):\n",
    "    # all unshared x for class 1\n",
    "    unshared_class1_tr_x = reshaped_seq_train_x[\n",
    "        i, 0, P_digit_share:(P_digit_share+P_digit_unshared)]\n",
    "    unshared_class2_tr_x = reshaped_seq_train_x[\n",
    "        i, 1, P_digit_share:(P_digit_share+P_digit_unshared)]\n",
    "\n",
    "    returned_seq_train_x[i, 0] = torch.vstack([shared_class1_tr_x, unshared_class1_tr_x])\n",
    "    returned_seq_train_x[i, 1] = torch.vstack([shared_class2_tr_x, unshared_class2_tr_x])\n"
   ]
  },
  {
   "cell_type": "code",
   "execution_count": 9,
   "metadata": {},
   "outputs": [
    {
     "data": {
      "text/plain": [
       "torch.Size([10, 2, 250, 784])"
      ]
     },
     "execution_count": 9,
     "metadata": {},
     "output_type": "execute_result"
    }
   ],
   "source": [
    "returned_seq_train_x.shape"
   ]
  }
 ],
 "metadata": {
  "kernelspec": {
   "display_name": "base",
   "language": "python",
   "name": "python3"
  },
  "language_info": {
   "codemirror_mode": {
    "name": "ipython",
    "version": 3
   },
   "file_extension": ".py",
   "mimetype": "text/x-python",
   "name": "python",
   "nbconvert_exporter": "python",
   "pygments_lexer": "ipython3",
   "version": "3.11.4"
  }
 },
 "nbformat": 4,
 "nbformat_minor": 2
}
